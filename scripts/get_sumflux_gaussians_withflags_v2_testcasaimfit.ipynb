{
 "cells": [
  {
   "cell_type": "code",
   "execution_count": 1,
   "metadata": {},
   "outputs": [],
   "source": [
    "import casatasks\n",
    "\n",
    "file_sim = './../data/gaussians_input/conf1_2.9mrs0.fits'\n",
    "file_obs = './../data/gaussians_observed_6totaltime/conf1_2.9mrs0_project_6totaltime.alma.cycle5.1.image.pbcor.Jyperpix.fits'"
   ]
  },
  {
   "cell_type": "code",
   "execution_count": 2,
   "metadata": {},
   "outputs": [
    {
     "name": "stderr",
     "output_type": "stream",
     "text": [
      "2024-01-16 15:45:29\tWARN\timportfits::::casa\tThis image has no beam or angular resolution provided, so you will not receive warnings from\n",
      "2024-01-16 15:45:29\tWARN\timportfits::::casa+\ttasks such as imregrid if your image pixels do not sample the the angular resolution well.\n",
      "2024-01-16 15:45:29\tWARN\timportfits::::casa+\t(This only affects warnings, not any functionality).\n",
      "2024-01-16 15:45:29\tWARN\timportfits::::casa+\tProviding a beam and brightness units in an image can also be useful for flux calculations.\n",
      "2024-01-16 15:45:29\tWARN\timportfits::::casa+\tIf you wish to add a beam or brightness units to your image, please use\n",
      "2024-01-16 15:45:29\tWARN\timportfits::::casa+\tthe \"beam\" parameter or ia.setrestoringbeam() and ia.setbrightnessunit()\n"
     ]
    }
   ],
   "source": [
    "casatasks.importfits(file_sim, 'sim.img')\n",
    "casatasks.importfits(file_obs, 'obs.img')"
   ]
  },
  {
   "cell_type": "code",
   "execution_count": 4,
   "metadata": {},
   "outputs": [
    {
     "name": "stderr",
     "output_type": "stream",
     "text": [
      "2024-01-16 15:46:19\tWARN\timfit::ImageFitter::clearNoiseFWHM\tnoiseFWHM not specified and image has no beam, using uncorrelated noise expressions to calculate uncertainties\n"
     ]
    }
   ],
   "source": [
    "sim_imfit = casatasks.imfit('sim.img')\n",
    "obs_imfit = casatasks.imfit('obs.img')"
   ]
  },
  {
   "cell_type": "code",
   "execution_count": 18,
   "metadata": {},
   "outputs": [
    {
     "name": "stdout",
     "output_type": "stream",
     "text": [
      "39.468484056624725\n",
      "36.99703379328864\n"
     ]
    }
   ],
   "source": [
    "print(sim_imfit['results']['component0']['flux']['value'][0])\n",
    "print(obs_imfit['results']['component0']['flux']['value'][0])"
   ]
  },
  {
   "cell_type": "code",
   "execution_count": 17,
   "metadata": {},
   "outputs": [
    {
     "data": {
      "text/plain": [
       "39.468484056624725"
      ]
     },
     "execution_count": 17,
     "metadata": {},
     "output_type": "execute_result"
    }
   ],
   "source": []
  },
  {
   "cell_type": "code",
   "execution_count": null,
   "metadata": {},
   "outputs": [],
   "source": []
  }
 ],
 "metadata": {
  "kernelspec": {
   "display_name": "base",
   "language": "python",
   "name": "python3"
  },
  "language_info": {
   "codemirror_mode": {
    "name": "ipython",
    "version": 3
   },
   "file_extension": ".py",
   "mimetype": "text/x-python",
   "name": "python",
   "nbconvert_exporter": "python",
   "pygments_lexer": "ipython3",
   "version": "3.8.17"
  }
 },
 "nbformat": 4,
 "nbformat_minor": 2
}
