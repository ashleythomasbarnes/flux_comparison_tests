{
 "cells": [
  {
   "cell_type": "code",
   "execution_count": 17,
   "id": "90b1d538-43b3-45dd-a02c-473f1aa6a555",
   "metadata": {},
   "outputs": [
    {
     "ename": "ModuleNotFoundError",
     "evalue": "No module named 'casa_tasks'",
     "output_type": "error",
     "traceback": [
      "\u001b[0;31m---------------------------------------------------------------------------\u001b[0m",
      "\u001b[0;31mModuleNotFoundError\u001b[0m                       Traceback (most recent call last)",
      "\u001b[0;32m/var/folders/3y/cmsgt3_x7x72bbs__zhy_q6h0008wr/T/ipykernel_2351/4061370074.py\u001b[0m in \u001b[0;36m<module>\u001b[0;34m\u001b[0m\n\u001b[1;32m      1\u001b[0m \u001b[0;32mfrom\u001b[0m \u001b[0mglob\u001b[0m \u001b[0;32mimport\u001b[0m \u001b[0mglob\u001b[0m\u001b[0;34m\u001b[0m\u001b[0;34m\u001b[0m\u001b[0m\n\u001b[0;32m----> 2\u001b[0;31m \u001b[0;32mfrom\u001b[0m \u001b[0mcasa_tasks\u001b[0m \u001b[0;32mimport\u001b[0m \u001b[0mimportfits\u001b[0m\u001b[0;34m\u001b[0m\u001b[0;34m\u001b[0m\u001b[0m\n\u001b[0m",
      "\u001b[0;31mModuleNotFoundError\u001b[0m: No module named 'casa_tasks'"
     ]
    }
   ],
   "source": [
    "from glob import glob\n",
    "from casa_tasks import importfits"
   ]
  },
  {
   "cell_type": "code",
   "execution_count": 7,
   "id": "2f578bb7-2ee7-4dba-8bc9-1c09856aa3ad",
   "metadata": {},
   "outputs": [],
   "source": [
    "dir_sim = './../data/gaussians_input/'\n",
    "dir_obs = './../data/gaussians_observed/'\n",
    "\n",
    "files_sim = glob(f'{dir_sim}*')\n",
    "files_obs = glob(f'{dir_obs}*')\n",
    "\n",
    "files_sim.sort()\n",
    "files_obs.sort()"
   ]
  },
  {
   "cell_type": "code",
   "execution_count": 8,
   "id": "0edb4abb-8a5c-4bb8-b12d-c7f46c1f0120",
   "metadata": {},
   "outputs": [
    {
     "data": {
      "text/plain": [
       "(['./../data/gaussians_input/conf1_11.4mrs0.fits'],\n",
       " ['./../data/gaussians_observed/conf1_11.4mrs0.alma.cycle5.1.image.pbcor.Jyperpix'])"
      ]
     },
     "execution_count": 8,
     "metadata": {},
     "output_type": "execute_result"
    }
   ],
   "source": [
    "files_sim, files_obs"
   ]
  },
  {
   "cell_type": "code",
   "execution_count": 15,
   "id": "33b83c87-69a5-41e1-8294-abf889e5967b",
   "metadata": {},
   "outputs": [
    {
     "name": "stdout",
     "output_type": "stream",
     "text": [
      "conf1_11.4mrs0.fits conf1_11.4mrs0.alma.cycle5.1.image.pbcor.Jyperpix\n"
     ]
    }
   ],
   "source": [
    "file_sim = files_sim[0]\n",
    "\n",
    "for file_sim in files_sim:\n",
    "\n",
    "    conf = file_sim.split('/')[-1].split('_')[0]\n",
    "    wide = file_sim.split('/')[-1].split('_')[-1].replace('.fits', '')\n",
    "    \n",
    "    for file_obs in files_obs:\n",
    "        if (conf in file_obs) & (wide in file_obs):\n",
    "            \n",
    "            print(file_sim.split('/')[-1], file_obs.split('/')[-1])\n",
    "            \n",
    "            \n",
    "            "
   ]
  },
  {
   "cell_type": "code",
   "execution_count": 12,
   "id": "5fccc1cc-7630-4925-a55b-7f2291285126",
   "metadata": {},
   "outputs": [
    {
     "data": {
      "text/plain": [
       "('conf1', '11.4mrs0')"
      ]
     },
     "execution_count": 12,
     "metadata": {},
     "output_type": "execute_result"
    }
   ],
   "source": []
  },
  {
   "cell_type": "code",
   "execution_count": null,
   "id": "9e00c5ff-dab6-42c4-9e65-85c4f2ae8593",
   "metadata": {},
   "outputs": [],
   "source": []
  }
 ],
 "metadata": {
  "kernelspec": {
   "display_name": "Python 3 (ipykernel)",
   "language": "python",
   "name": "python3"
  },
  "language_info": {
   "codemirror_mode": {
    "name": "ipython",
    "version": 3
   },
   "file_extension": ".py",
   "mimetype": "text/x-python",
   "name": "python",
   "nbconvert_exporter": "python",
   "pygments_lexer": "ipython3",
   "version": "3.9.13"
  }
 },
 "nbformat": 4,
 "nbformat_minor": 5
}
