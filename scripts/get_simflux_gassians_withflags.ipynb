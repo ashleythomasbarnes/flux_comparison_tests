{
 "cells": [
  {
   "cell_type": "code",
   "execution_count": 1,
   "metadata": {},
   "outputs": [],
   "source": [
    "from glob import glob\n",
    "import numpy as np\n",
    "from astropy.table import QTable\n",
    "import astropy.units as u\n",
    "from astropy.io import fits\n",
    "from astropy import stats\n",
    "from scipy.ndimage import binary_dilation  \n",
    "from astropy.modeling import models, fitting\n",
    "import numpy as np\n",
    "from astropy.modeling import models, fitting\n",
    "from reproject import reproject_interp\n",
    "\n",
    "def fit_2d_gaussian_and_get_sum(image):\n",
    "\n",
    "    image = np.squeeze(image)\n",
    "    image[np.isnan(image)] = 0\n",
    "\n",
    "    # Get the center of the image\n",
    "    shape_x, shape_y = image.shape\n",
    "    center_x, center_y = np.array(image.shape) // 2\n",
    "    \n",
    "    # Create x, y indices grid for the sub-image\n",
    "    x, y = np.array(np.mgrid[:shape_x, :shape_y], dtype=np.int32)\n",
    "    \n",
    "    # Initialize the Gaussian2D model\n",
    "    g_init = models.Gaussian2D(amplitude=np.nanmax(image), x_mean=center_x, y_mean=center_y)\n",
    "    \n",
    "    # Fit the model to the sub-image\n",
    "    fit_g = fitting.LevMarLSQFitter()\n",
    "    g = fit_g(g_init, x, y, image)\n",
    "    \n",
    "    # Calculate the sum of the fitted Gaussian\n",
    "    fitted_data = np.array(g(x, y), dtype=np.float32)\n",
    "    gaussian_sum = np.sum(fitted_data)\n",
    "    \n",
    "    return (gaussian_sum*u.Jy, fitted_data)\n",
    "\n",
    "def remove_nan_padding(data):\n",
    "    \n",
    "    # Find valid data indices along each axis\n",
    "    valid_x = np.where(np.nansum(data, axis=0)!=0)[0]\n",
    "    valid_y = np.where(np.nansum(data, axis=1)!=0)[0]\n",
    "\n",
    "    # In the rare case there's still no valid data\n",
    "    if len(valid_x) == 0 or len(valid_y) == 0:\n",
    "        return data\n",
    "    \n",
    "    # Crop the data array\n",
    "    cropped_data = data[valid_y[0]:valid_y[-1]+1, valid_x[0]:valid_x[-1]+1]\n",
    "       \n",
    "    return cropped_data"
   ]
  },
  {
   "cell_type": "code",
   "execution_count": 6,
   "metadata": {},
   "outputs": [
    {
     "data": {
      "text/plain": [
       "(['./../data/gaussians_input/conf1_11.4mrs0.fits',\n",
       "  './../data/gaussians_input/conf1_14.2mrs0.fits',\n",
       "  './../data/gaussians_input/conf1_17.1mrs0.fits',\n",
       "  './../data/gaussians_input/conf1_19.9mrs0.fits',\n",
       "  './../data/gaussians_input/conf1_2.9mrs0.fits',\n",
       "  './../data/gaussians_input/conf1_22.8mrs0.fits',\n",
       "  './../data/gaussians_input/conf1_25.7mrs0.fits',\n",
       "  './../data/gaussians_input/conf1_28.5mrs0.fits',\n",
       "  './../data/gaussians_input/conf1_31.4mrs0.fits',\n",
       "  './../data/gaussians_input/conf1_34.2mrs0.fits',\n",
       "  './../data/gaussians_input/conf1_37.1mrs0.fits',\n",
       "  './../data/gaussians_input/conf1_39.9mrs0.fits',\n",
       "  './../data/gaussians_input/conf1_42.8mrs0.fits',\n",
       "  './../data/gaussians_input/conf1_5.7mrs0.fits',\n",
       "  './../data/gaussians_input/conf1_8.6mrs0.fits'],\n",
       " ['./../data/gaussians_observed/conf1_11.4mrs0.alma.cycle5.1.image.pbcor.Jyperpix.fits',\n",
       "  './../data/gaussians_observed/conf1_14.2mrs0.alma.cycle5.1.image.pbcor.Jyperpix.fits',\n",
       "  './../data/gaussians_observed/conf1_17.1mrs0.alma.cycle5.1.image.pbcor.Jyperpix.fits',\n",
       "  './../data/gaussians_observed/conf1_19.9mrs0.alma.cycle5.1.image.pbcor.Jyperpix.fits',\n",
       "  './../data/gaussians_observed/conf1_2.9mrs0.alma.cycle5.1.image.pbcor.Jyperpix.fits',\n",
       "  './../data/gaussians_observed/conf1_22.8mrs0.alma.cycle5.1.image.pbcor.Jyperpix.fits',\n",
       "  './../data/gaussians_observed/conf1_25.7mrs0.alma.cycle5.1.image.pbcor.Jyperpix.fits',\n",
       "  './../data/gaussians_observed/conf1_28.5mrs0.alma.cycle5.1.image.pbcor.Jyperpix.fits',\n",
       "  './../data/gaussians_observed/conf1_31.4mrs0.alma.cycle5.1.image.pbcor.Jyperpix.fits',\n",
       "  './../data/gaussians_observed/conf1_34.2mrs0.alma.cycle5.1.image.pbcor.Jyperpix.fits',\n",
       "  './../data/gaussians_observed/conf1_37.1mrs0.alma.cycle5.1.image.pbcor.Jyperpix.fits',\n",
       "  './../data/gaussians_observed/conf1_39.9mrs0.alma.cycle5.1.image.pbcor.Jyperpix.fits',\n",
       "  './../data/gaussians_observed/conf1_42.8mrs0.alma.cycle5.1.image.pbcor.Jyperpix.fits',\n",
       "  './../data/gaussians_observed/conf1_5.7mrs0.alma.cycle5.1.image.pbcor.Jyperpix.fits',\n",
       "  './../data/gaussians_observed/conf1_8.6mrs0.alma.cycle5.1.image.pbcor.Jyperpix.fits'])"
      ]
     },
     "execution_count": 6,
     "metadata": {},
     "output_type": "execute_result"
    }
   ],
   "source": [
    "which = 'gaussians'\n",
    "\n",
    "which_time = ''\n",
    "# which_time = '_6totaltime'\n",
    "# which_time = '_60totaltime'\n",
    "# which_time = '_6totaltime_flagged'\n",
    "# which_time = '_60totaltime_flagged'\n",
    "\n",
    "dir_sim = f'./../data/{which}_input/'\n",
    "dir_obs = f'./../data/{which}_observed{which_time}/'\n",
    "\n",
    "files_sim = glob(f'{dir_sim}*.fits')\n",
    "files_obs = glob(f'{dir_obs}*.pbcor.Jyperpix.fits')\n",
    "\n",
    "files_sim.sort()\n",
    "files_obs.sort()\n",
    "\n",
    "files_sim, files_obs"
   ]
  },
  {
   "cell_type": "code",
   "execution_count": 14,
   "metadata": {},
   "outputs": [
    {
     "name": "stdout",
     "output_type": "stream",
     "text": [
      "conf1_11.4mrs0.fits conf1_11.4mrs0.alma.cycle5.1.image.pbcor.Jyperpix.fits\n"
     ]
    },
    {
     "name": "stderr",
     "output_type": "stream",
     "text": [
      "WARNING: FITSFixedWarning: 'datfix' made the change 'Set MJD-OBS to 51544.000000 from DATE-OBS'. [astropy.wcs.wcs]\n",
      "WARNING: FITSFixedWarning: 'obsfix' made the change 'Set OBSGEO-L to   -67.754929 from OBSGEO-[XYZ].\n",
      "Set OBSGEO-B to   -23.022886 from OBSGEO-[XYZ].\n",
      "Set OBSGEO-H to     5053.796 from OBSGEO-[XYZ]'. [astropy.wcs.wcs]\n",
      "WARNING: FITSFixedWarning: 'datfix' made the change 'Set MJD-OBS to 56658.389076 from DATE-OBS'. [astropy.wcs.wcs]\n"
     ]
    },
    {
     "name": "stdout",
     "output_type": "stream",
     "text": [
      "conf1_14.2mrs0.fits conf1_14.2mrs0.alma.cycle5.1.image.pbcor.Jyperpix.fits\n"
     ]
    },
    {
     "name": "stderr",
     "output_type": "stream",
     "text": [
      "WARNING: FITSFixedWarning: 'datfix' made the change 'Set MJD-OBS to 51544.000000 from DATE-OBS'. [astropy.wcs.wcs]\n",
      "WARNING: FITSFixedWarning: 'obsfix' made the change 'Set OBSGEO-L to   -67.754929 from OBSGEO-[XYZ].\n",
      "Set OBSGEO-B to   -23.022886 from OBSGEO-[XYZ].\n",
      "Set OBSGEO-H to     5053.796 from OBSGEO-[XYZ]'. [astropy.wcs.wcs]\n",
      "WARNING: FITSFixedWarning: 'datfix' made the change 'Set MJD-OBS to 56658.389076 from DATE-OBS'. [astropy.wcs.wcs]\n"
     ]
    },
    {
     "name": "stdout",
     "output_type": "stream",
     "text": [
      "conf1_17.1mrs0.fits conf1_17.1mrs0.alma.cycle5.1.image.pbcor.Jyperpix.fits\n"
     ]
    },
    {
     "name": "stderr",
     "output_type": "stream",
     "text": [
      "WARNING: FITSFixedWarning: 'datfix' made the change 'Set MJD-OBS to 51544.000000 from DATE-OBS'. [astropy.wcs.wcs]\n",
      "WARNING: FITSFixedWarning: 'obsfix' made the change 'Set OBSGEO-L to   -67.754929 from OBSGEO-[XYZ].\n",
      "Set OBSGEO-B to   -23.022886 from OBSGEO-[XYZ].\n",
      "Set OBSGEO-H to     5053.796 from OBSGEO-[XYZ]'. [astropy.wcs.wcs]\n",
      "WARNING: FITSFixedWarning: 'datfix' made the change 'Set MJD-OBS to 56658.389076 from DATE-OBS'. [astropy.wcs.wcs]\n"
     ]
    },
    {
     "name": "stdout",
     "output_type": "stream",
     "text": [
      "conf1_19.9mrs0.fits conf1_19.9mrs0.alma.cycle5.1.image.pbcor.Jyperpix.fits\n"
     ]
    },
    {
     "name": "stderr",
     "output_type": "stream",
     "text": [
      "WARNING: FITSFixedWarning: 'datfix' made the change 'Set MJD-OBS to 51544.000000 from DATE-OBS'. [astropy.wcs.wcs]\n",
      "WARNING: FITSFixedWarning: 'obsfix' made the change 'Set OBSGEO-L to   -67.754929 from OBSGEO-[XYZ].\n",
      "Set OBSGEO-B to   -23.022886 from OBSGEO-[XYZ].\n",
      "Set OBSGEO-H to     5053.796 from OBSGEO-[XYZ]'. [astropy.wcs.wcs]\n",
      "WARNING: FITSFixedWarning: 'datfix' made the change 'Set MJD-OBS to 56658.389076 from DATE-OBS'. [astropy.wcs.wcs]\n"
     ]
    },
    {
     "name": "stdout",
     "output_type": "stream",
     "text": [
      "conf1_2.9mrs0.fits conf1_2.9mrs0.alma.cycle5.1.image.pbcor.Jyperpix.fits\n"
     ]
    },
    {
     "name": "stderr",
     "output_type": "stream",
     "text": [
      "WARNING: FITSFixedWarning: 'datfix' made the change 'Set MJD-OBS to 51544.000000 from DATE-OBS'. [astropy.wcs.wcs]\n",
      "WARNING: FITSFixedWarning: 'obsfix' made the change 'Set OBSGEO-L to   -67.754929 from OBSGEO-[XYZ].\n",
      "Set OBSGEO-B to   -23.022886 from OBSGEO-[XYZ].\n",
      "Set OBSGEO-H to     5053.796 from OBSGEO-[XYZ]'. [astropy.wcs.wcs]\n",
      "WARNING: FITSFixedWarning: 'datfix' made the change 'Set MJD-OBS to 56658.389076 from DATE-OBS'. [astropy.wcs.wcs]\n"
     ]
    },
    {
     "name": "stdout",
     "output_type": "stream",
     "text": [
      "conf1_22.8mrs0.fits conf1_22.8mrs0.alma.cycle5.1.image.pbcor.Jyperpix.fits\n"
     ]
    },
    {
     "name": "stderr",
     "output_type": "stream",
     "text": [
      "WARNING: FITSFixedWarning: 'datfix' made the change 'Set MJD-OBS to 51544.000000 from DATE-OBS'. [astropy.wcs.wcs]\n",
      "WARNING: FITSFixedWarning: 'obsfix' made the change 'Set OBSGEO-L to   -67.754929 from OBSGEO-[XYZ].\n",
      "Set OBSGEO-B to   -23.022886 from OBSGEO-[XYZ].\n",
      "Set OBSGEO-H to     5053.796 from OBSGEO-[XYZ]'. [astropy.wcs.wcs]\n",
      "WARNING: FITSFixedWarning: 'datfix' made the change 'Set MJD-OBS to 56658.389076 from DATE-OBS'. [astropy.wcs.wcs]\n"
     ]
    },
    {
     "name": "stdout",
     "output_type": "stream",
     "text": [
      "conf1_25.7mrs0.fits conf1_25.7mrs0.alma.cycle5.1.image.pbcor.Jyperpix.fits\n"
     ]
    },
    {
     "name": "stderr",
     "output_type": "stream",
     "text": [
      "WARNING: FITSFixedWarning: 'datfix' made the change 'Set MJD-OBS to 51544.000000 from DATE-OBS'. [astropy.wcs.wcs]\n",
      "WARNING: FITSFixedWarning: 'obsfix' made the change 'Set OBSGEO-L to   -67.754929 from OBSGEO-[XYZ].\n",
      "Set OBSGEO-B to   -23.022886 from OBSGEO-[XYZ].\n",
      "Set OBSGEO-H to     5053.796 from OBSGEO-[XYZ]'. [astropy.wcs.wcs]\n",
      "WARNING: FITSFixedWarning: 'datfix' made the change 'Set MJD-OBS to 56658.389076 from DATE-OBS'. [astropy.wcs.wcs]\n"
     ]
    },
    {
     "name": "stdout",
     "output_type": "stream",
     "text": [
      "conf1_28.5mrs0.fits conf1_28.5mrs0.alma.cycle5.1.image.pbcor.Jyperpix.fits\n"
     ]
    },
    {
     "name": "stderr",
     "output_type": "stream",
     "text": [
      "WARNING: FITSFixedWarning: 'datfix' made the change 'Set MJD-OBS to 51544.000000 from DATE-OBS'. [astropy.wcs.wcs]\n",
      "WARNING: FITSFixedWarning: 'obsfix' made the change 'Set OBSGEO-L to   -67.754929 from OBSGEO-[XYZ].\n",
      "Set OBSGEO-B to   -23.022886 from OBSGEO-[XYZ].\n",
      "Set OBSGEO-H to     5053.796 from OBSGEO-[XYZ]'. [astropy.wcs.wcs]\n",
      "WARNING: FITSFixedWarning: 'datfix' made the change 'Set MJD-OBS to 56658.389076 from DATE-OBS'. [astropy.wcs.wcs]\n"
     ]
    },
    {
     "name": "stdout",
     "output_type": "stream",
     "text": [
      "conf1_31.4mrs0.fits conf1_31.4mrs0.alma.cycle5.1.image.pbcor.Jyperpix.fits\n"
     ]
    },
    {
     "name": "stderr",
     "output_type": "stream",
     "text": [
      "WARNING: FITSFixedWarning: 'datfix' made the change 'Set MJD-OBS to 51544.000000 from DATE-OBS'. [astropy.wcs.wcs]\n",
      "WARNING: FITSFixedWarning: 'obsfix' made the change 'Set OBSGEO-L to   -67.754929 from OBSGEO-[XYZ].\n",
      "Set OBSGEO-B to   -23.022886 from OBSGEO-[XYZ].\n",
      "Set OBSGEO-H to     5053.796 from OBSGEO-[XYZ]'. [astropy.wcs.wcs]\n",
      "WARNING: FITSFixedWarning: 'datfix' made the change 'Set MJD-OBS to 56658.389076 from DATE-OBS'. [astropy.wcs.wcs]\n"
     ]
    },
    {
     "name": "stdout",
     "output_type": "stream",
     "text": [
      "conf1_34.2mrs0.fits conf1_34.2mrs0.alma.cycle5.1.image.pbcor.Jyperpix.fits\n"
     ]
    },
    {
     "name": "stderr",
     "output_type": "stream",
     "text": [
      "WARNING: FITSFixedWarning: 'datfix' made the change 'Set MJD-OBS to 51544.000000 from DATE-OBS'. [astropy.wcs.wcs]\n",
      "WARNING: FITSFixedWarning: 'obsfix' made the change 'Set OBSGEO-L to   -67.754929 from OBSGEO-[XYZ].\n",
      "Set OBSGEO-B to   -23.022886 from OBSGEO-[XYZ].\n",
      "Set OBSGEO-H to     5053.796 from OBSGEO-[XYZ]'. [astropy.wcs.wcs]\n",
      "WARNING: FITSFixedWarning: 'datfix' made the change 'Set MJD-OBS to 56658.389076 from DATE-OBS'. [astropy.wcs.wcs]\n"
     ]
    },
    {
     "name": "stdout",
     "output_type": "stream",
     "text": [
      "conf1_37.1mrs0.fits conf1_37.1mrs0.alma.cycle5.1.image.pbcor.Jyperpix.fits\n"
     ]
    },
    {
     "name": "stderr",
     "output_type": "stream",
     "text": [
      "WARNING: FITSFixedWarning: 'datfix' made the change 'Set MJD-OBS to 51544.000000 from DATE-OBS'. [astropy.wcs.wcs]\n",
      "WARNING: FITSFixedWarning: 'obsfix' made the change 'Set OBSGEO-L to   -67.754929 from OBSGEO-[XYZ].\n",
      "Set OBSGEO-B to   -23.022886 from OBSGEO-[XYZ].\n",
      "Set OBSGEO-H to     5053.796 from OBSGEO-[XYZ]'. [astropy.wcs.wcs]\n",
      "WARNING: FITSFixedWarning: 'datfix' made the change 'Set MJD-OBS to 56658.389076 from DATE-OBS'. [astropy.wcs.wcs]\n"
     ]
    },
    {
     "name": "stdout",
     "output_type": "stream",
     "text": [
      "conf1_39.9mrs0.fits conf1_39.9mrs0.alma.cycle5.1.image.pbcor.Jyperpix.fits\n"
     ]
    },
    {
     "name": "stderr",
     "output_type": "stream",
     "text": [
      "WARNING: FITSFixedWarning: 'datfix' made the change 'Set MJD-OBS to 51544.000000 from DATE-OBS'. [astropy.wcs.wcs]\n",
      "WARNING: FITSFixedWarning: 'obsfix' made the change 'Set OBSGEO-L to   -67.754929 from OBSGEO-[XYZ].\n",
      "Set OBSGEO-B to   -23.022886 from OBSGEO-[XYZ].\n",
      "Set OBSGEO-H to     5053.796 from OBSGEO-[XYZ]'. [astropy.wcs.wcs]\n",
      "WARNING: FITSFixedWarning: 'datfix' made the change 'Set MJD-OBS to 56658.389076 from DATE-OBS'. [astropy.wcs.wcs]\n"
     ]
    },
    {
     "name": "stdout",
     "output_type": "stream",
     "text": [
      "conf1_42.8mrs0.fits conf1_42.8mrs0.alma.cycle5.1.image.pbcor.Jyperpix.fits\n"
     ]
    },
    {
     "name": "stderr",
     "output_type": "stream",
     "text": [
      "WARNING: FITSFixedWarning: 'datfix' made the change 'Set MJD-OBS to 51544.000000 from DATE-OBS'. [astropy.wcs.wcs]\n",
      "WARNING: FITSFixedWarning: 'obsfix' made the change 'Set OBSGEO-L to   -67.754929 from OBSGEO-[XYZ].\n",
      "Set OBSGEO-B to   -23.022886 from OBSGEO-[XYZ].\n",
      "Set OBSGEO-H to     5053.796 from OBSGEO-[XYZ]'. [astropy.wcs.wcs]\n",
      "WARNING: FITSFixedWarning: 'datfix' made the change 'Set MJD-OBS to 56658.389076 from DATE-OBS'. [astropy.wcs.wcs]\n"
     ]
    },
    {
     "name": "stdout",
     "output_type": "stream",
     "text": [
      "conf1_5.7mrs0.fits conf1_25.7mrs0.alma.cycle5.1.image.pbcor.Jyperpix.fits\n"
     ]
    },
    {
     "name": "stderr",
     "output_type": "stream",
     "text": [
      "WARNING: FITSFixedWarning: 'datfix' made the change 'Set MJD-OBS to 51544.000000 from DATE-OBS'. [astropy.wcs.wcs]\n",
      "WARNING: FITSFixedWarning: 'obsfix' made the change 'Set OBSGEO-L to   -67.754929 from OBSGEO-[XYZ].\n",
      "Set OBSGEO-B to   -23.022886 from OBSGEO-[XYZ].\n",
      "Set OBSGEO-H to     5053.796 from OBSGEO-[XYZ]'. [astropy.wcs.wcs]\n",
      "WARNING: FITSFixedWarning: 'datfix' made the change 'Set MJD-OBS to 56658.389076 from DATE-OBS'. [astropy.wcs.wcs]\n"
     ]
    },
    {
     "name": "stdout",
     "output_type": "stream",
     "text": [
      "conf1_5.7mrs0.fits conf1_5.7mrs0.alma.cycle5.1.image.pbcor.Jyperpix.fits\n"
     ]
    },
    {
     "name": "stderr",
     "output_type": "stream",
     "text": [
      "WARNING: FITSFixedWarning: 'datfix' made the change 'Set MJD-OBS to 51544.000000 from DATE-OBS'. [astropy.wcs.wcs]\n",
      "WARNING: FITSFixedWarning: 'obsfix' made the change 'Set OBSGEO-L to   -67.754929 from OBSGEO-[XYZ].\n",
      "Set OBSGEO-B to   -23.022886 from OBSGEO-[XYZ].\n",
      "Set OBSGEO-H to     5053.796 from OBSGEO-[XYZ]'. [astropy.wcs.wcs]\n",
      "WARNING: FITSFixedWarning: 'datfix' made the change 'Set MJD-OBS to 56658.389076 from DATE-OBS'. [astropy.wcs.wcs]\n"
     ]
    },
    {
     "name": "stdout",
     "output_type": "stream",
     "text": [
      "conf1_8.6mrs0.fits conf1_8.6mrs0.alma.cycle5.1.image.pbcor.Jyperpix.fits\n"
     ]
    },
    {
     "name": "stderr",
     "output_type": "stream",
     "text": [
      "WARNING: FITSFixedWarning: 'datfix' made the change 'Set MJD-OBS to 51544.000000 from DATE-OBS'. [astropy.wcs.wcs]\n",
      "WARNING: FITSFixedWarning: 'obsfix' made the change 'Set OBSGEO-L to   -67.754929 from OBSGEO-[XYZ].\n",
      "Set OBSGEO-B to   -23.022886 from OBSGEO-[XYZ].\n",
      "Set OBSGEO-H to     5053.796 from OBSGEO-[XYZ]'. [astropy.wcs.wcs]\n",
      "WARNING: FITSFixedWarning: 'datfix' made the change 'Set MJD-OBS to 56658.389076 from DATE-OBS'. [astropy.wcs.wcs]\n"
     ]
    }
   ],
   "source": [
    "confs = ['conf1']\n",
    "for conf in confs: \n",
    "\n",
    "    n = 15\n",
    "    max_sim = ['']*n\n",
    "    max_obs = ['']*n\n",
    "    sum_sim = ['']*n\n",
    "    sum_obs = ['']*n\n",
    "    sum_mask10_obs = ['']*n\n",
    "    sum_mask10_sim = ['']*n\n",
    "    sum_mask50_obs = ['']*n\n",
    "    sum_mask50_sim = ['']*n\n",
    "    sum_fit_sim = ['']*n\n",
    "    sum_fit_obs = ['']*n\n",
    "    rms_arr = ['']*n\n",
    "    conf_arr = ['']*n\n",
    "    wide_arr = ['']*n\n",
    "\n",
    "    for i, file_sim in enumerate(files_sim):\n",
    "\n",
    "        conf_file = file_sim.split('/')[-1].split('_')[0]\n",
    "        wide_file = file_sim.split('/')[-1].split('_')[-1].replace('.fits', '')\n",
    "        \n",
    "        for file_obs in files_obs:\n",
    "            if (conf_file in file_obs) & (wide_file in file_obs):\n",
    "\n",
    "                if conf_file != conf: \n",
    "                    continue\n",
    "                \n",
    "                if float(conf.replace('conf', '')) not in [1]: \n",
    "                    continue\n",
    "\n",
    "                conf_arr[i] = conf\n",
    "                wide_arr[i] = wide_file\n",
    "\n",
    "                print(file_sim.split('/')[-1], file_obs.split('/')[-1])\n",
    "\n",
    "                data_sim = np.array(np.squeeze(fits.getdata(file_sim)), dtype=np.float32)\n",
    "                data_obs = np.array(np.squeeze(fits.getdata(file_obs)), dtype=np.float32)\n",
    "\n",
    "                data_obs = remove_nan_padding(data_obs)\n",
    "\n",
    "                rms_sim = 0  \n",
    "                rms_obs = stats.mad_std(data_obs, ignore_nan=True)\n",
    "                rms_obs = stats.mad_std(data_obs[data_obs<rms_obs], ignore_nan=True)\n",
    "                rms_arr[i] = rms_obs*u.Jy\n",
    "\n",
    "                mask_high = data_obs == np.nanmax(data_obs)\n",
    "                mask_low = data_obs > rms_obs*3\n",
    "                mask = binary_dilation(mask_high, mask=mask_low, iterations=-1)\n",
    "\n",
    "                rms_hdu = fits.PrimaryHDU(mask*np.int32(1), fits.getheader(file_obs))\n",
    "                rms_hdu.writeto(file_obs.replace('.Jyperpix.fits', '.Jyperpix.mask.fits'), overwrite=True)\n",
    "\n",
    "                max_sim[i] = np.nanmax(data_sim)*u.Jy\n",
    "                max_obs[i] = np.nanmax(data_obs)*u.Jy\n",
    "\n",
    "                sum_sim[i] = np.nansum(data_sim)*u.Jy\n",
    "                sum_obs[i] = np.nansum(data_obs[mask])*u.Jy\n",
    "\n",
    "                sum_fit_sim[i], _ = fit_2d_gaussian_and_get_sum(data_sim)\n",
    "                sum_fit_obs[i], fitted_data = fit_2d_gaussian_and_get_sum(data_obs) \n",
    "\n",
    "                ### Get masked flux\n",
    "                hdu_sim = fits.open(file_sim)[0]\n",
    "                hdu_obs = fits.open(file_obs)[0]\n",
    "\n",
    "                data_sim_r, _ = reproject_interp(hdu_sim, hdu_obs.header)\n",
    "\n",
    "                mask_sim = hdu_sim.data/np.nanmax(hdu_sim.data) > 0.1\n",
    "                mask_sim_r = data_sim_r/np.nanmax(data_sim_r) > 0.1\n",
    "                \n",
    "                sum_mask10_sim[i] = np.nansum(hdu_sim.data[mask_sim])*u.Jy\n",
    "                sum_mask10_obs[i] = np.nansum(hdu_obs.data[mask_sim_r])*u.Jy\n",
    "\n",
    "                mask_sim = hdu_sim.data/np.nanmax(hdu_sim.data) > 0.5\n",
    "                mask_sim_r = data_sim_r/np.nanmax(data_sim_r) > 0.5\n",
    "                \n",
    "                sum_mask50_sim[i] = np.nansum(hdu_sim.data[mask_sim])*u.Jy\n",
    "                sum_mask50_obs[i] = np.nansum(hdu_obs.data[mask_sim_r])*u.Jy\n",
    "\n",
    "    ### Organise into astropy table \n",
    "    for i in range(len(sum_sim)):\n",
    "        if sum_mask10_sim[i] == '':\n",
    "            sum_fit_sim[i] = np.nan *u.Jy\n",
    "            sum_fit_obs[i] = np.nan *u.Jy\n",
    "            sum_mask10_sim[i] = np.nan *u.Jy\n",
    "            sum_mask10_obs[i] = np.nan *u.Jy\n",
    "            sum_mask50_sim[i] = np.nan *u.Jy\n",
    "            sum_mask50_obs[i] = np.nan *u.Jy\n",
    "            sum_sim[i] = np.nan *u.Jy\n",
    "            sum_obs[i] = np.nan *u.Jy\n",
    "            rms_arr[i] = np.nan *u.Jy\n",
    "            max_obs[i] = np.nan *u.Jy\n",
    "            max_sim[i] = np.nan *u.Jy\n",
    "\n",
    "    table = QTable([conf_arr, \n",
    "                wide_arr, \n",
    "                sum_sim, \n",
    "                sum_obs, \n",
    "                rms_arr, \n",
    "                max_sim,\n",
    "                max_obs,\n",
    "                sum_fit_sim, \n",
    "                sum_fit_obs,\n",
    "                sum_mask10_sim, \n",
    "                sum_mask10_obs,\n",
    "                sum_mask50_sim, \n",
    "                sum_mask50_obs,\n",
    "                ], \n",
    "            names=('conf', \n",
    "                'wide', \n",
    "                'sum_sim', \n",
    "                'sum_obs', \n",
    "                'rms_obs', \n",
    "                'max_sim',\n",
    "                'max_obs',\n",
    "                'sum_fit_sim', \n",
    "                'sum_fit_obs',\n",
    "                'sum_mask10_sim', \n",
    "                'sum_mask10_obs',\n",
    "                'sum_mask50_sim', \n",
    "                'sum_mask50_obs'))\n",
    "\n",
    "    conf_ = table['conf'].copy()\n",
    "    wide_ = table['wide'].copy()\n",
    "\n",
    "    for i, (conf, wide) in enumerate(zip(conf_, wide_)):\n",
    "\n",
    "        if conf == '':\n",
    "            conf_[i] = np.nan\n",
    "            wide_[i] = np.nan\n",
    "        else:\n",
    "            conf_[i] = float(conf.replace('conf', ''))\n",
    "            wide_[i] = float(wide.replace('mrs0', ''))\n",
    "\n",
    "    table['conf_'] = np.array(conf_, dtype=float)\n",
    "    table['wide_'] = np.array(wide_, dtype=float)\n",
    "    table.sort(['conf_', 'wide_'], reverse=False) # sort\n",
    "\n",
    "    ids_nan = np.where(np.isnan(table['conf_']))[0]\n",
    "    table.remove_rows(ids_nan)\n",
    "\n",
    "    table.write(f'../data/tables/table_fit_{which}{which_time}_{conf}.fits', overwrite=True)\n",
    "    table.write(f'../data/tables/table_fit_{which}{which_time}_{conf}.csv', overwrite=True)"
   ]
  }
 ],
 "metadata": {
  "kernelspec": {
   "display_name": "base",
   "language": "python",
   "name": "python3"
  },
  "language_info": {
   "codemirror_mode": {
    "name": "ipython",
    "version": 3
   },
   "file_extension": ".py",
   "mimetype": "text/x-python",
   "name": "python",
   "nbconvert_exporter": "python",
   "pygments_lexer": "ipython3",
   "version": "3.9.13"
  }
 },
 "nbformat": 4,
 "nbformat_minor": 2
}
