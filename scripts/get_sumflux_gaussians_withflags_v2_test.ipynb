{
 "cells": [
  {
   "cell_type": "code",
   "execution_count": 1,
   "metadata": {},
   "outputs": [
    {
     "name": "stdout",
     "output_type": "stream",
     "text": [
      "conf1_2.9mrs0.fits\n",
      "conf1_2.9mrs0_project_6totaltime.alma.cycle5.1.image.pbcor.Jyperpix.fits\n"
     ]
    }
   ],
   "source": [
    "from glob import glob\n",
    "import numpy as np\n",
    "import astropy.units as u\n",
    "from astropy.io import fits\n",
    "from astropy import stats\n",
    "from scipy.ndimage import binary_dilation  \n",
    "from astropy.modeling import models, fitting\n",
    "import numpy as np\n",
    "from astropy.modeling import models, fitting\n",
    "from reproject import reproject_interp\n",
    "import time \n",
    "import warnings \n",
    "warnings.filterwarnings('ignore')\n",
    "\n",
    "def fit_2d_gaussian_and_get_sum(image):\n",
    "\n",
    "    image = np.squeeze(image)\n",
    "    image[np.isnan(image)] = 0\n",
    "\n",
    "    # Get the center of the image\n",
    "    shape_x, shape_y = image.shape\n",
    "    center_x, center_y = np.array(image.shape) // 2\n",
    "    \n",
    "    # Create x, y indices grid for the sub-image\n",
    "    x, y = np.array(np.mgrid[:shape_x, :shape_y], dtype=np.int32)\n",
    "    \n",
    "    # Initialize the Gaussian2D model\n",
    "    g_init = models.Gaussian2D(amplitude=np.nanmax(image), x_mean=center_x, y_mean=center_y)\n",
    "    \n",
    "    # Fit the model to the sub-image\n",
    "    fit_g = fitting.LevMarLSQFitter()\n",
    "    g = fit_g(g_init, x, y, image)\n",
    "    \n",
    "    # Calculate the sum of the fitted Gaussian\n",
    "    fitted_data = np.array(g(x, y), dtype=np.float32)\n",
    "    gaussian_sum = np.sum(fitted_data)\n",
    "    \n",
    "    return (gaussian_sum*u.Jy, fitted_data)\n",
    "\n",
    "def remove_padding(data):\n",
    "    \n",
    "    # Find valid data indices along each axis\n",
    "    valid_x = np.where(np.nansum(data, axis=0)!=0)[0]\n",
    "    valid_y = np.where(np.nansum(data, axis=1)!=0)[0]\n",
    "\n",
    "    # In the rare case there's still no valid data\n",
    "    if len(valid_x) == 0 or len(valid_y) == 0:\n",
    "        return data\n",
    "    \n",
    "    # Crop the data array\n",
    "    cropped_data = data[valid_y[0]:valid_y[-1]+1, valid_x[0]:valid_x[-1]+1]\n",
    "    return cropped_data\n",
    "\n",
    "def remove_padding_2arrays(data1, data2):\n",
    "    \n",
    "    # Find valid data indices along each axis\n",
    "    valid_x = np.where(np.nansum(data1, axis=0)!=0)[0]\n",
    "    valid_y = np.where(np.nansum(data1, axis=1)!=0)[0]\n",
    "\n",
    "    # In the rare case there's still no valid data\n",
    "    if len(valid_x) == 0 or len(valid_y) == 0:\n",
    "        return data1\n",
    "    \n",
    "    # Crop the data array\n",
    "    cropped_data = data2[valid_y[0]:valid_y[-1]+1, valid_x[0]:valid_x[-1]+1]\n",
    "    return cropped_data\n",
    "\n",
    "which = 'gaussians'\n",
    "\n",
    "# which_time = ''\n",
    "which_time = '_6totaltime'\n",
    "# which_time = '_60totaltime'\n",
    "# which_time = '_6totaltime_flagged'\n",
    "# which_time = '_60totaltime_flagged'\n",
    "\n",
    "dir_sim = f'./../data/{which}_input/'\n",
    "dir_obs = f'./../data/{which}_observed{which_time}/'\n",
    "\n",
    "files_sim = glob(f'{dir_sim}*.fits')\n",
    "files_obs = glob(f'{dir_obs}*.pbcor.Jyperpix.fits')\n",
    "\n",
    "files_sim.sort()\n",
    "files_obs.sort()\n",
    "\n",
    "confs = ['conf1']\n",
    "count = 0\n",
    "\n",
    "start_total = time.time()\n",
    "for conf in confs: \n",
    "\n",
    "    files_sim = glob(f'{dir_sim}{conf}_*.fits')\n",
    "    files_obs = glob(f'{dir_obs}{conf}_*.pbcor.Jyperpix.fits')\n",
    "    files_sim.sort()\n",
    "    files_obs.sort()\n",
    "\n",
    "    n = 15\n",
    "    max_sim = ['']*n\n",
    "    max_obs = ['']*n\n",
    "    sum_sim = ['']*n\n",
    "    sum_obs = ['']*n\n",
    "    sum_mask10_obs = ['']*n\n",
    "    sum_mask10_sim = ['']*n\n",
    "    sum_mask50_obs = ['']*n\n",
    "    sum_mask50_sim = ['']*n\n",
    "    sum_fit_sim = ['']*n\n",
    "    sum_fit_obs = ['']*n\n",
    "    rms_arr = ['']*n\n",
    "    conf_arr = ['']*n\n",
    "    wide_arr = ['']*n\n",
    "\n",
    "    for i, file_sim in enumerate(files_sim):\n",
    "        \n",
    "        start = time.time()\n",
    "\n",
    "        conf_file = file_sim.split('/')[-1].split('_')[0]\n",
    "        wide_file = file_sim.split('/')[-1].split('_')[-1].replace('.fits', '')\n",
    "        \n",
    "        for file_obs in files_obs:\n",
    "            if (conf_file in file_obs) & (wide_file in file_obs):\n",
    "\n",
    "                if conf_file != conf: \n",
    "                    continue\n",
    "\n",
    "                if '2.9mrs' not in wide_file:\n",
    "                    continue\n",
    "\n",
    "                # if count>0:\n",
    "                #     continue\n",
    "                # count+=1\n",
    "\n",
    "                conf_arr[i] = conf\n",
    "                wide_arr[i] = wide_file\n",
    "\n",
    "                print('%s' %file_sim.split('/')[-1])\n",
    "                print('%s' %file_obs.split('/')[-1])\n",
    "\n",
    "file_sim = './../data/gaussians_input/conf1_2.9mrs0.fits'\n",
    "file_obs = './../data/gaussians_observed_6totaltime/conf1_2.9mrs0_project_6totaltime.alma.cycle5.1.image.pbcor.Jyperpix.fits'"
   ]
  },
  {
   "cell_type": "code",
   "execution_count": 2,
   "metadata": {},
   "outputs": [
    {
     "name": "stdout",
     "output_type": "stream",
     "text": [
      "[INFO] Getting squeeze...\n",
      "[INFO] Getting cropping...\n"
     ]
    }
   ],
   "source": [
    "hdu_sim = fits.open(file_sim)[0]\n",
    "hdu_obs = fits.open(file_obs)[0]\n",
    "\n",
    "hdu_sim.data = np.array(hdu_sim.data, dtype=np.float32)\n",
    "hdu_obs.data = np.array(hdu_obs.data, dtype=np.float32)\n",
    "\n",
    "print('[INFO] Getting squeeze...')\n",
    "data_sim = np.array(np.squeeze(hdu_sim.data.copy()), dtype=np.float32)\n",
    "data_obs = np.array(np.squeeze(hdu_obs.data.copy()), dtype=np.float32)\n",
    "\n",
    "print('[INFO] Getting cropping...')\n",
    "data_sim = remove_padding(data_sim)\n",
    "data_obs = remove_padding(data_obs)"
   ]
  },
  {
   "cell_type": "code",
   "execution_count": 3,
   "metadata": {},
   "outputs": [
    {
     "data": {
      "text/plain": [
       "((245, 239), (73, 73))"
      ]
     },
     "execution_count": 3,
     "metadata": {},
     "output_type": "execute_result"
    }
   ],
   "source": [
    "data_obs.shape, data_sim.shape"
   ]
  },
  {
   "cell_type": "code",
   "execution_count": 4,
   "metadata": {},
   "outputs": [],
   "source": [
    "hdu_sim.data = np.squeeze(hdu_sim.data)\n",
    "hdu_obs.data = data_obs\n",
    "\n",
    "hdu_obs.header['CRPIX1'] = hdu_obs.data.shape[1]/2\n",
    "hdu_obs.header['CRPIX2'] = hdu_obs.data.shape[0]/2\n",
    "del hdu_sim.header['*3*']\n",
    "del hdu_sim.header['*4*']\n",
    "del hdu_obs.header['*3*']\n",
    "del hdu_obs.header['*4*']\n",
    "del hdu_obs.header['*PC*']\n",
    "del hdu_sim.header['*PC*']\n",
    "\n",
    "data_sim_r, _ = np.array(reproject_interp(hdu_sim, hdu_obs.header), dtype=np.float32)\n",
    "data_sim_rp = remove_padding(data_sim_r)"
   ]
  },
  {
   "cell_type": "code",
   "execution_count": 5,
   "metadata": {},
   "outputs": [],
   "source": [
    "# fits.PrimaryHDU(data_sim, hdu_sim.header).writeto('tmp1.fits')\n",
    "# fits.PrimaryHDU(data_obs, hdu_sim.header).writeto('tmp2.fits')\n",
    "# fits.PrimaryHDU(data_sim_r, hdu_sim.header).writeto('tmp3.fits')\n",
    "# fits.PrimaryHDU(data_sim_rp, hdu_sim.header).writeto('tmp4.fits')"
   ]
  },
  {
   "cell_type": "code",
   "execution_count": 6,
   "metadata": {},
   "outputs": [
    {
     "data": {
      "text/plain": [
       "((245, 239), (73, 73), (245, 239), (52, 52))"
      ]
     },
     "execution_count": 6,
     "metadata": {},
     "output_type": "execute_result"
    }
   ],
   "source": [
    "data_obs.shape, data_sim.shape, data_sim_r.shape, data_sim_rp.shape"
   ]
  },
  {
   "cell_type": "code",
   "execution_count": 7,
   "metadata": {},
   "outputs": [
    {
     "name": "stdout",
     "output_type": "stream",
     "text": [
      "[INFO] Getting cropping - data to sim...\n",
      "[INFO] Time to run data to sim cropping: 4.32 [sec]\n"
     ]
    }
   ],
   "source": [
    "if np.squeeze(data_sim_rp).shape[0] < data_obs.shape[0]:\n",
    "    print('[INFO] Getting cropping - data to sim...')\n",
    "    data_obs = np.array(np.squeeze(hdu_obs.data.copy()), dtype=np.float32)\n",
    "    data_obs = remove_padding_2arrays(np.squeeze(data_sim_r), data_obs)\n",
    "    print('[INFO] Time to run data to sim cropping: %0.2f [sec]' %((time.time() - start)))"
   ]
  },
  {
   "cell_type": "code",
   "execution_count": 8,
   "metadata": {},
   "outputs": [
    {
     "data": {
      "text/plain": [
       "(52, 52)"
      ]
     },
     "execution_count": 8,
     "metadata": {},
     "output_type": "execute_result"
    }
   ],
   "source": [
    "data_obs.shape"
   ]
  },
  {
   "cell_type": "code",
   "execution_count": 9,
   "metadata": {},
   "outputs": [],
   "source": [
    "def fit_2d_gaussian_and_get_sum(image, x_stddev=None, y_stddev=None):\n",
    "\n",
    "    image = np.squeeze(image)\n",
    "    image[np.isnan(image)] = 0\n",
    "\n",
    "    # Get the center of the image\n",
    "    shape_x, shape_y = image.shape\n",
    "    center_x, center_y = np.array(image.shape) // 2\n",
    "    \n",
    "    # Create x, y indices grid for the sub-image\n",
    "    x, y = np.array(np.mgrid[:shape_x, :shape_y], dtype=np.int32)\n",
    "    \n",
    "    # Initialize the Gaussian2D model\n",
    "    g_init = models.Gaussian2D(amplitude=np.nanmax(image), \n",
    "                               x_mean=center_x, y_mean=center_y, \n",
    "                               x_stddev=x_stddev, y_stddev=y_stddev)\n",
    "    \n",
    "    # Fit the model to the sub-image\n",
    "    fit_g = fitting.LevMarLSQFitter()\n",
    "    g = fit_g(g_init, x, y, image)\n",
    "    \n",
    "    # Calculate the sum of the fitted Gaussian\n",
    "    fitted_data = np.array(g(x, y), dtype=np.float32)\n",
    "    gaussian_sum = np.sum(fitted_data)\n",
    "    \n",
    "    return (gaussian_sum*u.Jy, fitted_data, g)"
   ]
  },
  {
   "cell_type": "code",
   "execution_count": 10,
   "metadata": {},
   "outputs": [
    {
     "name": "stdout",
     "output_type": "stream",
     "text": [
      "36.997032165527344 Jy\n",
      "39.468482971191406 Jy\n",
      "36.99703598022461 Jy\n"
     ]
    }
   ],
   "source": [
    "sum_fit_sim, fitted_data_sim, g = fit_2d_gaussian_and_get_sum(data_sim)\n",
    "sum_fit_obs, fitted_data_obs, g = fit_2d_gaussian_and_get_sum(data_obs) \n",
    "print(sum_fit_obs)\n",
    "\n",
    "sum_fit_obs, fitted_data_obs, g = fit_2d_gaussian_and_get_sum(data_obs, g.x_stddev.value, g.y_stddev.value) \n",
    "\n",
    "print(sum_fit_sim)\n",
    "print(sum_fit_obs)"
   ]
  },
  {
   "cell_type": "code",
   "execution_count": 11,
   "metadata": {},
   "outputs": [
    {
     "name": "stdout",
     "output_type": "stream",
     "text": [
      "0.00017881393432617188\n",
      "0.06625103950500488\n",
      "0.0001277923583984375\n",
      "0.032321929931640625\n"
     ]
    }
   ],
   "source": [
    "import numpy as np\n",
    "from astropy.modeling import models, fitting\n",
    "import astropy.units as u\n",
    "import numpy as np\n",
    "from scipy.integrate import dblquad\n",
    "\n",
    "def empirical_gaussian_sum(amplitude, x_mean, y_mean, x_stddev, y_stddev, x_min, x_max, y_min, y_max):\n",
    "\n",
    "    gaussian_func = lambda x, y: amplitude * np.exp(-((x - x_mean)**2 / (2 * x_stddev**2) + (y - y_mean)**2 / (2 * y_stddev**2)))\n",
    "    empirical_sum, _ = dblquad(gaussian_func, x_min, x_max, lambda x: y_min, lambda x: y_max)\n",
    "\n",
    "    return empirical_sum\n",
    "\n",
    "def fit_2d_gaussian_and_get_sum_with_uncertainty(image):\n",
    "    image = np.squeeze(image)\n",
    "    image[np.isnan(image)] = 0\n",
    "\n",
    "    # Get the center of the image\n",
    "    shape_x, shape_y = image.shape\n",
    "    center_x, center_y = np.array(image.shape) // 2\n",
    "\n",
    "    # Create x, y indices grid for the sub-image\n",
    "    x, y = np.array(np.mgrid[:shape_x, :shape_y], dtype=np.int32)\n",
    "\n",
    "    # Initialize the Gaussian2D model\n",
    "    g_init = models.Gaussian2D(amplitude=np.nanmax(image), x_mean=center_x, y_mean=center_y)\n",
    "\n",
    "    # Fit the model to the sub-image\n",
    "    fit_g = fitting.LevMarLSQFitter()\n",
    "    g = fit_g(g_init, x, y, image)\n",
    "\n",
    "    start = time.time()\n",
    "    # Calculate the sum of the fitted Gaussian\n",
    "    fitted_data = np.array(g(x, y), dtype=np.float32)\n",
    "    gaussian_sum = np.sum(fitted_data)\n",
    "    end = time.time()\n",
    "    print(end - start)\n",
    "    \n",
    "    # Calculate the uncertainty on the fit using the covariance matrix\n",
    "    cov_matrix = fit_g.fit_info['param_cov']\n",
    "    if cov_matrix is not None:\n",
    "        g_err = np.sqrt(np.diag(cov_matrix))\n",
    "    else:\n",
    "        g_err = np.zeros_like(g.parameters)\n",
    "\n",
    "    amplitude = g.amplitude.value\n",
    "    x_mean = g.x_mean.value\n",
    "    y_mean = g.y_mean.value\n",
    "    x_stddev = g.x_stddev.value\n",
    "    y_stddev = g.y_stddev.value\n",
    "    x_min, x_max, y_min, y_max = 0, shape_x, 0, shape_y\n",
    "\n",
    "    start = time.time()\n",
    "    gaussian_intsum = empirical_gaussian_sum(amplitude, x_mean, y_mean, x_stddev, y_stddev, x_min, x_max, y_min, y_max)\n",
    "    end = time.time()\n",
    "    print(end - start)\n",
    "\n",
    "    gaussian_intsuml = empirical_gaussian_sum(amplitude-g_err[0], x_mean-g_err[1], y_mean-g_err[2], x_stddev-g_err[3], y_stddev-g_err[4], x_min, x_max, y_min, y_max)\n",
    "    gaussian_intsumh = empirical_gaussian_sum(amplitude+g_err[0], x_mean+g_err[1], y_mean+g_err[2], x_stddev+g_err[3], y_stddev+g_err[4], x_min, x_max, y_min, y_max)\n",
    "\n",
    "    # Return the result along with the uncertainty\n",
    "    return (gaussian_sum * u.Jy, (gaussian_intsum, gaussian_intsuml, gaussian_intsumh))\n",
    "\n",
    "sum_fit_sim, err_fit_sim = fit_2d_gaussian_and_get_sum_with_uncertainty(data_sim)\n",
    "sum_fit_obs, err_fit_obs = fit_2d_gaussian_and_get_sum_with_uncertainty(data_obs) "
   ]
  },
  {
   "cell_type": "code",
   "execution_count": 17,
   "metadata": {},
   "outputs": [
    {
     "data": {
      "text/plain": [
       "<matplotlib.image.AxesImage at 0x7f7e826ab310>"
      ]
     },
     "execution_count": 17,
     "metadata": {},
     "output_type": "execute_result"
    },
    {
     "data": {
      "image/png": "[encoded data removed]",
      "text/plain": [
       "<Figure size 640x480 with 1 Axes>"
      ]
     },
     "metadata": {},
     "output_type": "display_data"
    }
   ],
   "source": [
    "from matplotlib import pyplot as plt\n",
    "\n",
    "plt.imshow(data_sim)"
   ]
  },
  {
   "cell_type": "code",
   "execution_count": 15,
   "metadata": {},
   "outputs": [
    {
     "name": "stdout",
     "output_type": "stream",
     "text": [
      "0.05269598960876465\n",
      "Empirical Gaussian Sum: 36.99703546307869\n",
      "Sum: 39.468482971191406\n",
      "Empirical Gaussian Ratio: 0.9373817455837696\n"
     ]
    }
   ],
   "source": [
    "import numpy as np\n",
    "from scipy.integrate import dblquad\n",
    "\n",
    "def empirical_gaussian_sum(amplitude, x_mean, y_mean, x_stddev, y_stddev, x_min, x_max, y_min, y_max):\n",
    "    \"\"\"\n",
    "    Empirically calculates the sum of a 2D Gaussian over a given region.\n",
    "\n",
    "    Parameters:\n",
    "    amplitude : float\n",
    "        Amplitude of the Gaussian.\n",
    "    x_mean, y_mean : float\n",
    "        Mean values of the Gaussian in the x and y directions.\n",
    "    x_stddev, y_stddev : float\n",
    "        Standard deviations of the Gaussian in the x and y directions.\n",
    "    x_min, x_max, y_min, y_max : float\n",
    "        Integration limits for x and y.\n",
    "\n",
    "    Returns:\n",
    "    float\n",
    "        Empirical sum of the Gaussian over the specified region.\n",
    "    \"\"\"\n",
    "    gaussian_func = lambda x, y: amplitude * np.exp(-((x - x_mean)**2 / (2 * x_stddev**2) + (y - y_mean)**2 / (2 * y_stddev**2)))\n",
    "\n",
    "    empirical_sum, _ = dblquad(gaussian_func, x_min, x_max, lambda x: y_min, lambda x: y_max)\n",
    "\n",
    "    return empirical_sum\n",
    "\n",
    "image = data_sim\n",
    "\n",
    "amplitude = g.amplitude.value\n",
    "x_mean = g.x_mean.value\n",
    "y_mean = g.y_mean.value\n",
    "x_stddev = g.x_stddev.value\n",
    "y_stddev = g.y_stddev.value\n",
    "\n",
    "shape_x, shape_y = image.shape\n",
    "center_x, center_y = np.array(image.shape) // 2\n",
    "\n",
    "x_min, x_max, y_min, y_max = 0, shape_x, 0, shape_y\n",
    "\n",
    "start = time.time()\n",
    "result = empirical_gaussian_sum(amplitude, x_mean, y_mean, x_stddev, y_stddev, x_min, x_max, y_min, y_max)\n",
    "end = time.time()\n",
    "print(end - start)\n",
    "\n",
    "print(f\"Empirical Gaussian Sum: {result}\")\n",
    "print(f\"Sum: {np.sum(image)}\")\n",
    "print(f\"Empirical Gaussian Ratio: {result/np.sum(image)}\")"
   ]
  },
  {
   "cell_type": "code",
   "execution_count": 13,
   "metadata": {},
   "outputs": [
    {
     "name": "stdout",
     "output_type": "stream",
     "text": [
      "0.010702133178710938\n",
      "Empirical Gaussian Sum: 6283178102841.875\n"
     ]
    }
   ],
   "source": [
    "amplitude = 1\n",
    "x_mean = 5e6\n",
    "y_mean = 5e6\n",
    "x_stddev = 1e6\n",
    "y_stddev = 1e6\n",
    "\n",
    "x_min, x_max, y_min, y_max = 0, 1e7, 0, 1e7\n",
    "\n",
    "start = time.time()\n",
    "result = empirical_gaussian_sum(amplitude, x_mean, y_mean, x_stddev, y_stddev, x_min, x_max, y_min, y_max)\n",
    "end = time.time()\n",
    "print(end - start)\n",
    "\n",
    "print(f\"Empirical Gaussian Sum: {result}\")"
   ]
  },
  {
   "cell_type": "code",
   "execution_count": 14,
   "metadata": {},
   "outputs": [
    {
     "data": {
      "image/png": "[encoded data removed]",
      "text/plain": [
       "<Figure size 800x800 with 2 Axes>"
      ]
     },
     "metadata": {},
     "output_type": "display_data"
    }
   ],
   "source": [
    "from matplotlib import pyplot as plt\n",
    "\n",
    "fig1, (ax1, ax2) = plt.subplots(1, 2, figsize=(8, 8))\n",
    "\n",
    "ax1.imshow(fitted_data_sim)\n",
    "ax2.imshow(fitted_data_obs)\n",
    "\n",
    "fits.PrimaryHDU(fitted_data_sim, hdu_sim.header).writeto('fitted_data_sim.fits', overwrite=True)\n",
    "fits.PrimaryHDU(fitted_data_obs, hdu_sim.header).writeto('fitted_data_obs.fits', overwrite=True)\n",
    "fits.PrimaryHDU(data_sim, hdu_sim.header).writeto('data_sim.fits', overwrite=True)\n",
    "fits.PrimaryHDU(data_obs, hdu_sim.header).writeto('data_obs.fits', overwrite=True)"
   ]
  },
  {
   "cell_type": "code",
   "execution_count": 11,
   "metadata": {},
   "outputs": [
    {
     "name": "stdout",
     "output_type": "stream",
     "text": [
      "[INFO] Getting sums...\n",
      "[INFO] Time to run sums: 7.42 [sec]\n",
      "[INFO] Getting fits...\n"
     ]
    },
    {
     "ename": "ValueError",
     "evalue": "too many values to unpack (expected 2)",
     "output_type": "error",
     "traceback": [
      "\u001b[0;31m---------------------------------------------------------------------------\u001b[0m",
      "\u001b[0;31mValueError\u001b[0m                                Traceback (most recent call last)",
      "\u001b[0;32m/var/folders/3y/cmsgt3_x7x72bbs__zhy_q6h0008wr/T/ipykernel_99425/1942607822.py\u001b[0m in \u001b[0;36m<module>\u001b[0;34m\u001b[0m\n\u001b[1;32m     22\u001b[0m \u001b[0;34m\u001b[0m\u001b[0m\n\u001b[1;32m     23\u001b[0m \u001b[0mprint\u001b[0m\u001b[0;34m(\u001b[0m\u001b[0;34m'[INFO] Getting fits...'\u001b[0m\u001b[0;34m)\u001b[0m\u001b[0;34m\u001b[0m\u001b[0;34m\u001b[0m\u001b[0m\n\u001b[0;32m---> 24\u001b[0;31m \u001b[0msum_fit_sim\u001b[0m\u001b[0;34m[\u001b[0m\u001b[0mi\u001b[0m\u001b[0;34m]\u001b[0m\u001b[0;34m,\u001b[0m \u001b[0mfitted_data_sim\u001b[0m \u001b[0;34m=\u001b[0m \u001b[0mfit_2d_gaussian_and_get_sum\u001b[0m\u001b[0;34m(\u001b[0m\u001b[0mdata_sim\u001b[0m\u001b[0;34m)\u001b[0m\u001b[0;34m\u001b[0m\u001b[0;34m\u001b[0m\u001b[0m\n\u001b[0m\u001b[1;32m     25\u001b[0m \u001b[0mprint\u001b[0m\u001b[0;34m(\u001b[0m\u001b[0;34m'[INFO] Time to run sim fit: %0.2f [sec]'\u001b[0m \u001b[0;34m%\u001b[0m\u001b[0;34m(\u001b[0m\u001b[0;34m(\u001b[0m\u001b[0mtime\u001b[0m\u001b[0;34m.\u001b[0m\u001b[0mtime\u001b[0m\u001b[0;34m(\u001b[0m\u001b[0;34m)\u001b[0m \u001b[0;34m-\u001b[0m \u001b[0mstart\u001b[0m\u001b[0;34m)\u001b[0m\u001b[0;34m)\u001b[0m\u001b[0;34m)\u001b[0m\u001b[0;34m\u001b[0m\u001b[0;34m\u001b[0m\u001b[0m\n\u001b[1;32m     26\u001b[0m \u001b[0msum_fit_obs\u001b[0m\u001b[0;34m[\u001b[0m\u001b[0mi\u001b[0m\u001b[0;34m]\u001b[0m\u001b[0;34m,\u001b[0m \u001b[0mfitted_data_obs\u001b[0m \u001b[0;34m=\u001b[0m \u001b[0mfit_2d_gaussian_and_get_sum\u001b[0m\u001b[0;34m(\u001b[0m\u001b[0mdata_obs\u001b[0m\u001b[0;34m)\u001b[0m\u001b[0;34m\u001b[0m\u001b[0;34m\u001b[0m\u001b[0m\n",
      "\u001b[0;31mValueError\u001b[0m: too many values to unpack (expected 2)"
     ]
    }
   ],
   "source": [
    "i = 0\n",
    "\n",
    "print('[INFO] Getting sums...')\n",
    "rms_sim = 0  \n",
    "rms_obs = stats.mad_std(data_obs, ignore_nan=True)\n",
    "rms_obs = stats.mad_std(data_obs[data_obs<rms_obs], ignore_nan=True)\n",
    "rms_arr[i] = rms_obs*u.Jy\n",
    "\n",
    "mask_high = data_obs == np.nanmax(data_obs)\n",
    "mask_low = data_obs > rms_obs*3\n",
    "mask = binary_dilation(mask_high, mask=mask_low, iterations=-1)\n",
    "\n",
    "# mask_hdu = fits.PrimaryHDU(mask*np.int32(1), fits.getheader(file_obs))\n",
    "# mask_hdu.writeto(file_obs.replace('.Jyperpix.fits', '.Jyperpix.mask.fits'), overwrite=True)\n",
    "\n",
    "max_sim[i] = np.nanmax(data_sim)*u.Jy\n",
    "max_obs[i] = np.nanmax(data_obs)*u.Jy\n",
    "\n",
    "sum_sim[i] = np.nansum(data_sim)*u.Jy\n",
    "sum_obs[i] = np.nansum(data_obs[mask])*u.Jy\n",
    "print('[INFO] Time to run sums: %0.2f [sec]' %((time.time() - start)))\n",
    "\n",
    "print('[INFO] Getting fits...')\n",
    "sum_fit_sim[i], fitted_data_sim = fit_2d_gaussian_and_get_sum(data_sim)\n",
    "print('[INFO] Time to run sim fit: %0.2f [sec]' %((time.time() - start)))\n",
    "sum_fit_obs[i], fitted_data_obs = fit_2d_gaussian_and_get_sum(data_obs) \n",
    "print('[INFO] Time to run obs fit: %0.2f [sec]' %((time.time() - start)))\n",
    "\n",
    "print('[INFO] Getting masked sums...')\n",
    "### Get masked flux\n",
    "mask_sim = data_sim/np.nanmax(data_sim) > 0.1\n",
    "mask_sim_r = data_sim_rp/np.nanmax(data_sim_rp) > 0.1\n",
    "\n",
    "sum_mask10_sim[i] = np.nansum(data_sim[mask_sim])*u.Jy\n",
    "sum_mask10_obs[i] = np.nansum(data_obs[mask_sim_r])*u.Jy\n",
    "\n",
    "mask_sim = data_sim/np.nanmax(data_sim) > 0.5\n",
    "mask_sim_r = data_sim_rp/np.nanmax(data_sim_rp) > 0.5\n",
    "\n",
    "sum_mask50_sim[i] = np.nansum(data_sim[mask_sim])*u.Jy\n",
    "sum_mask50_obs[i] = np.nansum(data_obs[mask_sim_r])*u.Jy\n",
    "print('[INFO] Time to run masked sums: %0.2f [sec]' %((time.time() - start)))"
   ]
  },
  {
   "cell_type": "code",
   "execution_count": null,
   "metadata": {},
   "outputs": [],
   "source": [
    "sum_mask10_sim[i], sum_mask10_obs[i]"
   ]
  },
  {
   "cell_type": "code",
   "execution_count": null,
   "metadata": {},
   "outputs": [],
   "source": [
    "sum_sim[i], sum_fit_sim[i], sum_fit_obs[i]"
   ]
  },
  {
   "cell_type": "code",
   "execution_count": null,
   "metadata": {},
   "outputs": [],
   "source": []
  }
 ],
 "metadata": {
  "kernelspec": {
   "display_name": "base",
   "language": "python",
   "name": "python3"
  },
  "language_info": {
   "codemirror_mode": {
    "name": "ipython",
    "version": 3
   },
   "file_extension": ".py",
   "mimetype": "text/x-python",
   "name": "python",
   "nbconvert_exporter": "python",
   "pygments_lexer": "ipython3",
   "version": "3.9.13"
  }
 },
 "nbformat": 4,
 "nbformat_minor": 2
}
