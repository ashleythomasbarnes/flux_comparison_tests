{
 "cells": [
  {
   "cell_type": "code",
   "execution_count": 28,
   "id": "03c7c64a-87e9-4286-b692-25a77d638b88",
   "metadata": {},
   "outputs": [],
   "source": [
    "from glob import glob\n",
    "import numpy as np\n",
    "from astropy.io import fits\n",
    "from turbustat.statistics import PowerSpectrum\n",
    "import matplotlib.pyplot as plt\n",
    "import astropy.units as u \n",
    "\n",
    "which = 'gaussians'\n",
    "\n",
    "dir_sim = f'./../data/{which}_input/'\n",
    "dir_obs = f'./../data/{which}_observed/'\n",
    "\n",
    "files_sim = glob(f'{dir_sim}*.fits')\n",
    "files_obs = glob(f'{dir_obs}*.pbcor.Jyperpix.fits')\n",
    "\n",
    "files_sim.sort()\n",
    "files_obs.sort()"
   ]
  },
  {
   "cell_type": "code",
   "execution_count": 34,
   "id": "61aac3e1-adbf-4a16-81b8-766468f5d429",
   "metadata": {},
   "outputs": [
    {
     "name": "stderr",
     "output_type": "stream",
     "text": [
      "/Users/abarnes/opt/anaconda3/lib/python3.9/site-packages/numpy/lib/nanfunctions.py:1879: RuntimeWarning: Degrees of freedom <= 0 for slice.\n",
      "  var = nanvar(a, axis=axis, dtype=dtype, out=out, ddof=ddof,\n",
      "/Users/abarnes/opt/anaconda3/lib/python3.9/site-packages/numpy/lib/nanfunctions.py:1879: RuntimeWarning: Degrees of freedom <= 0 for slice.\n",
      "  var = nanvar(a, axis=axis, dtype=dtype, out=out, ddof=ddof,\n",
      "/Users/abarnes/opt/anaconda3/lib/python3.9/site-packages/turbustat/statistics/base_pspec2.py:207: UserWarning: Not enough points to fit to. Ignoring break.\n",
      "  warnings.warn(\"Not enough points to fit to.\" +\n",
      "/Users/abarnes/opt/anaconda3/lib/python3.9/site-packages/numpy/lib/nanfunctions.py:1879: RuntimeWarning: Degrees of freedom <= 0 for slice.\n",
      "  var = nanvar(a, axis=axis, dtype=dtype, out=out, ddof=ddof,\n",
      "/Users/abarnes/opt/anaconda3/lib/python3.9/site-packages/turbustat/statistics/base_pspec2.py:207: UserWarning: Not enough points to fit to. Ignoring break.\n",
      "  warnings.warn(\"Not enough points to fit to.\" +\n",
      "/Users/abarnes/opt/anaconda3/lib/python3.9/site-packages/numpy/lib/nanfunctions.py:1879: RuntimeWarning: Degrees of freedom <= 0 for slice.\n",
      "  var = nanvar(a, axis=axis, dtype=dtype, out=out, ddof=ddof,\n",
      "/Users/abarnes/opt/anaconda3/lib/python3.9/site-packages/turbustat/statistics/base_pspec2.py:207: UserWarning: Not enough points to fit to. Ignoring break.\n",
      "  warnings.warn(\"Not enough points to fit to.\" +\n",
      "/Users/abarnes/opt/anaconda3/lib/python3.9/site-packages/numpy/lib/nanfunctions.py:1879: RuntimeWarning: Degrees of freedom <= 0 for slice.\n",
      "  var = nanvar(a, axis=axis, dtype=dtype, out=out, ddof=ddof,\n",
      "/Users/abarnes/opt/anaconda3/lib/python3.9/site-packages/numpy/lib/nanfunctions.py:1879: RuntimeWarning: Degrees of freedom <= 0 for slice.\n",
      "  var = nanvar(a, axis=axis, dtype=dtype, out=out, ddof=ddof,\n",
      "/Users/abarnes/opt/anaconda3/lib/python3.9/site-packages/turbustat/statistics/base_pspec2.py:207: UserWarning: Not enough points to fit to. Ignoring break.\n",
      "  warnings.warn(\"Not enough points to fit to.\" +\n",
      "/Users/abarnes/opt/anaconda3/lib/python3.9/site-packages/numpy/lib/nanfunctions.py:1879: RuntimeWarning: Degrees of freedom <= 0 for slice.\n",
      "  var = nanvar(a, axis=axis, dtype=dtype, out=out, ddof=ddof,\n",
      "/Users/abarnes/opt/anaconda3/lib/python3.9/site-packages/turbustat/statistics/base_pspec2.py:207: UserWarning: Not enough points to fit to. Ignoring break.\n",
      "  warnings.warn(\"Not enough points to fit to.\" +\n",
      "/Users/abarnes/opt/anaconda3/lib/python3.9/site-packages/numpy/lib/nanfunctions.py:1879: RuntimeWarning: Degrees of freedom <= 0 for slice.\n",
      "  var = nanvar(a, axis=axis, dtype=dtype, out=out, ddof=ddof,\n",
      "/Users/abarnes/opt/anaconda3/lib/python3.9/site-packages/turbustat/statistics/base_pspec2.py:207: UserWarning: Not enough points to fit to. Ignoring break.\n",
      "  warnings.warn(\"Not enough points to fit to.\" +\n",
      "/Users/abarnes/opt/anaconda3/lib/python3.9/site-packages/numpy/lib/nanfunctions.py:1879: RuntimeWarning: Degrees of freedom <= 0 for slice.\n",
      "  var = nanvar(a, axis=axis, dtype=dtype, out=out, ddof=ddof,\n",
      "/Users/abarnes/opt/anaconda3/lib/python3.9/site-packages/turbustat/statistics/base_pspec2.py:207: UserWarning: Not enough points to fit to. Ignoring break.\n",
      "  warnings.warn(\"Not enough points to fit to.\" +\n",
      "/Users/abarnes/opt/anaconda3/lib/python3.9/site-packages/numpy/lib/nanfunctions.py:1879: RuntimeWarning: Degrees of freedom <= 0 for slice.\n",
      "  var = nanvar(a, axis=axis, dtype=dtype, out=out, ddof=ddof,\n",
      "/Users/abarnes/opt/anaconda3/lib/python3.9/site-packages/numpy/lib/nanfunctions.py:1879: RuntimeWarning: Degrees of freedom <= 0 for slice.\n",
      "  var = nanvar(a, axis=axis, dtype=dtype, out=out, ddof=ddof,\n",
      "/Users/abarnes/opt/anaconda3/lib/python3.9/site-packages/numpy/lib/nanfunctions.py:1879: RuntimeWarning: Degrees of freedom <= 0 for slice.\n",
      "  var = nanvar(a, axis=axis, dtype=dtype, out=out, ddof=ddof,\n",
      "/Users/abarnes/opt/anaconda3/lib/python3.9/site-packages/numpy/lib/nanfunctions.py:1879: RuntimeWarning: Degrees of freedom <= 0 for slice.\n",
      "  var = nanvar(a, axis=axis, dtype=dtype, out=out, ddof=ddof,\n",
      "/Users/abarnes/opt/anaconda3/lib/python3.9/site-packages/numpy/lib/nanfunctions.py:1879: RuntimeWarning: Degrees of freedom <= 0 for slice.\n",
      "  var = nanvar(a, axis=axis, dtype=dtype, out=out, ddof=ddof,\n",
      "/Users/abarnes/opt/anaconda3/lib/python3.9/site-packages/turbustat/statistics/base_pspec2.py:207: UserWarning: Not enough points to fit to. Ignoring break.\n",
      "  warnings.warn(\"Not enough points to fit to.\" +\n",
      "/Users/abarnes/opt/anaconda3/lib/python3.9/site-packages/numpy/lib/nanfunctions.py:1879: RuntimeWarning: Degrees of freedom <= 0 for slice.\n",
      "  var = nanvar(a, axis=axis, dtype=dtype, out=out, ddof=ddof,\n",
      "/Users/abarnes/opt/anaconda3/lib/python3.9/site-packages/numpy/lib/nanfunctions.py:1879: RuntimeWarning: Degrees of freedom <= 0 for slice.\n",
      "  var = nanvar(a, axis=axis, dtype=dtype, out=out, ddof=ddof,\n",
      "/Users/abarnes/opt/anaconda3/lib/python3.9/site-packages/turbustat/statistics/lm_seg.py:172: UserWarning: Max iterations reached.                                Result may not be minimized.\n",
      "  warnings.warn(\"Max iterations reached. \\\n",
      "/Users/abarnes/opt/anaconda3/lib/python3.9/site-packages/turbustat/statistics/base_pspec2.py:442: UserWarning: The elliptical parameter is close to 1. The field may be isotropic and the fit is not converging to 1. Consider fitting with `fix_ellip_params=True`, which forces the ellipticity to 1.\n",
      "  warnings.warn(\"The elliptical parameter is close to 1. The field \"\n"
     ]
    }
   ],
   "source": [
    "for i, file_sim in enumerate(files_sim):\n",
    "\n",
    "    conf = file_sim.split('/')[-1].split('_')[0]\n",
    "    wide = file_sim.split('/')[-1].split('_')[-1].replace('.fits', '')\n",
    "    \n",
    "    for file_obs in files_obs:\n",
    "        if (conf in file_obs) & (wide in file_obs):\n",
    "\n",
    "            header_sim = fits.getheader(file_sim)\n",
    "            header_obs = fits.getheader(file_obs)\n",
    "            \n",
    "            hdu_obs = fits.open(file_obs)[0]\n",
    "            pspec = PowerSpectrum(hdu_obs)\n",
    "            # pspec.run(verbose=False, radial_pspec_kwargs={'binsize': 1.0}, fit_2D=True)\n",
    "            pspec.run(verbose=False, radial_pspec_kwargs={'binsize': 1.0}, fit_2D=True, fit_kwargs={'brk': 0.01 / u.pix, 'log_break': False})\n",
    "            pspec.plot_fit(save_name=file_obs.replace('.fits', '.pspec.png'))"
   ]
  },
  {
   "cell_type": "code",
   "execution_count": null,
   "id": "5d8b170d-0592-4d2e-97db-4778ea1a1362",
   "metadata": {},
   "outputs": [],
   "source": []
  }
 ],
 "metadata": {
  "kernelspec": {
   "display_name": "Python 3 (ipykernel)",
   "language": "python",
   "name": "python3"
  },
  "language_info": {
   "codemirror_mode": {
    "name": "ipython",
    "version": 3
   },
   "file_extension": ".py",
   "mimetype": "text/x-python",
   "name": "python",
   "nbconvert_exporter": "python",
   "pygments_lexer": "ipython3",
   "version": "3.9.13"
  }
 },
 "nbformat": 4,
 "nbformat_minor": 5
}
